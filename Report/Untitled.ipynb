import matplotlib.pyplot as plt
from IPython.display import display, Image

# --- Introducción ---
print("# Modelos Basados en Información")
print("Este estudio analiza la formación del spread bid-ask en mercados financieros, basándose en los modelos de Bagehot y Copeland & Galai. Se explora cómo los creadores de mercado pueden optimizar su estrategia de precios para maximizar beneficios.")

# --- Simulación de la Distribución de Precios ---
print("## Simulación de la Distribución de Precios")
print("Se generó una distribución de precios utilizando una Weibull con parámetros específicos. La gráfica resultante muestra una tendencia sesgada a la derecha, con un pico en torno a 50, lo que indica que la mayoría de los precios se concentran en ese rango.")
display(Image(filename="imagen1.png"))

# --- Análisis del Bid-Ask Spread ---
print("## Análisis del Bid-Ask Spread")
print("Se modelaron dos escenarios para evaluar los ingresos de un creador de mercado: uno con traders exclusivamente de liquidez y otro con un 40% de probabilidades de trades informados. La gráfica muestra que en el primer caso los ingresos crecen linealmente, mientras que en el segundo caso crecen a un ritmo menor. La línea verde representa el ingreso óptimo, que alcanza un máximo antes de descender.")
display(Image(filename="imagen2.png"))

# --- Optimización del Spread Bid-Ask ---
print("## Optimización del Spread Bid-Ask")
print("Se empleó scipy.optimize.minimize para hallar el spread óptimo que maximiza el beneficio del creador de mercado. Se determinó que el spread óptimo es 7.00, estableciendo precios de compra y venta óptimos en 47.50 y 54.50 respectivamente.")

# --- Conclusiones ---
print("## Conclusiones")
print("- La distribución de precios sigue un patrón con un pico cercano a 50, lo que confirma la tendencia observada en el mercado.")
print("- El spread bid-ask impacta directamente en los ingresos del creador de mercado, siendo más eficiente cuando se optimiza según la presencia de traders informados.")
print("- La estrategia óptima identificada permite mejorar la toma de decisiones en la fijación de precios, aspecto clave en los mercados financieros.")


