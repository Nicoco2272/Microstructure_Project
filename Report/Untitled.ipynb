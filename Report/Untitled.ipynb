{
 "cells": [
  {
   "cell_type": "markdown",
   "id": "09e090fb",
   "metadata": {},
   "source": [
    "# 001 Microstructure Project \n",
    "### Nicolas Ramirez Castro\n",
    "### Maximiliano Hernandez Aparicio "
   ]
  },
  {
   "cell_type": "markdown",
   "id": "ad298923",
   "metadata": {},
   "source": [
    "## 1-. Introducción al proyecto\n",
    "\n"
   ]
  },
  {
   "cell_type": "code",
   "execution_count": 1,
   "id": "8319f397",
   "metadata": {},
   "outputs": [
    {
     "data": {
      "image/png": "[encoded data removed]",
      "text/plain": [
       "<Figure size 576x360 with 1 Axes>"
      ]
     },
     "metadata": {
      "needs_background": "light"
     },
     "output_type": "display_data"
    }
   ],
   "source": [
    "import numpy as np\n",
    "import matplotlib.pyplot as plt\n",
    "from scipy.stats import weibull_min\n",
    "\n",
    "# Parámetros del modelo\n",
    "lambda_weibull = 50  # Parámetro de escala\n",
    "k_weibull = 10  # Parámetro de forma\n",
    "pi_I = 0.4  # Probabilidad de una operación informada\n",
    "p0 = 51  # Precio inicial\n",
    "\n",
    "# Funciones de probabilidad para los traders de liquidez\n",
    "S_values = np.linspace(0, 7, 100)\n",
    "pi_LB_S = 0.5 - 0.08 * S_values\n",
    "pi_LS_S = 0.5 - 0.08 * S_values\n",
    "\n",
    "# Distribución de precios de la Weibull\n",
    "x = np.linspace(25, 65, 1000)\n",
    "pdf_weibull = weibull_min.pdf(x, k_weibull, scale=lambda_weibull)\n",
    "\n",
    "def plot_weibull_distribution():\n",
    "    \"\"\"Grafica la distribución de precios Weibull.\"\"\"\n",
    "    plt.figure(figsize=(8, 5))\n",
    "    plt.plot(x, pdf_weibull, label=r\"Weibull Distribution $\\lambda = 50$ $K = 10$\", color=\"blue\")\n",
    "    plt.xlabel(\"Price (P)\")\n",
    "    plt.ylabel(\"Density\")\n",
    "    plt.title(\"Weibull Price Distribution\")\n",
    "    plt.legend()\n",
    "    plt.grid()\n",
    "    plt.show()\n",
    "\n",
    "if __name__ == \"__main__\":\n",
    "    plot_weibull_distribution()"
   ]
  },
  {
   "cell_type": "code",
   "execution_count": 2,
   "id": "24778c31",
   "metadata": {},
   "outputs": [
    {
     "ename": "ModuleNotFoundError",
     "evalue": "No module named 'price_simulation'",
     "output_type": "error",
     "traceback": [
      "\u001b[1;31m---------------------------------------------------------------------------\u001b[0m",
      "\u001b[1;31mModuleNotFoundError\u001b[0m                       Traceback (most recent call last)",
      "Input \u001b[1;32mIn [2]\u001b[0m, in \u001b[0;36m<cell line: 3>\u001b[1;34m()\u001b[0m\n\u001b[0;32m      1\u001b[0m \u001b[38;5;28;01mimport\u001b[39;00m \u001b[38;5;21;01mnumpy\u001b[39;00m \u001b[38;5;28;01mas\u001b[39;00m \u001b[38;5;21;01mnp\u001b[39;00m\n\u001b[0;32m      2\u001b[0m \u001b[38;5;28;01mimport\u001b[39;00m \u001b[38;5;21;01mmatplotlib\u001b[39;00m\u001b[38;5;21;01m.\u001b[39;00m\u001b[38;5;21;01mpyplot\u001b[39;00m \u001b[38;5;28;01mas\u001b[39;00m \u001b[38;5;21;01mplt\u001b[39;00m\n\u001b[1;32m----> 3\u001b[0m \u001b[38;5;28;01mfrom\u001b[39;00m \u001b[38;5;21;01mprice_simulation\u001b[39;00m \u001b[38;5;28;01mimport\u001b[39;00m S_values, pi_LB_S, pi_LS_S, pi_I, p0\n\u001b[0;32m      5\u001b[0m \u001b[38;5;66;03m# Cálculo de ingresos esperados\u001b[39;00m\n\u001b[0;32m      6\u001b[0m Q \u001b[38;5;241m=\u001b[39m S_values  \u001b[38;5;66;03m# Ingresos si todos los traders son de liquidez\u001b[39;00m\n",
      "\u001b[1;31mModuleNotFoundError\u001b[0m: No module named 'price_simulation'"
     ]
    }
   ],
   "source": [
    "import numpy as np\n",
    "import matplotlib.pyplot as plt\n",
    "from price_simulation import S_values, pi_LB_S, pi_LS_S, pi_I, p0\n",
    "\n",
    "# Cálculo de ingresos esperados\n",
    "Q = S_values  # Ingresos si todos los traders son de liquidez\n",
    "R = (1-pi_I) * S_values # Ingresos para liquidez con la probabilidad dada\n",
    "Expected_Revenue = (1-pi_I) * pi_LB_S  * S_values\n",
    "\n",
    "def plot_bid_ask_spread():\n",
    "    \"\"\"Grafica el spread Bid-Ask y los ingresos esperados.\"\"\"\n",
    "    plt.figure(figsize=(8, 5))\n",
    "    plt.plot(S_values, Q, label=\"Todos los traders son de liquidez\", color=\"red\")\n",
    "    plt.plot(S_values, R, label=\"Probabilidad de 40% de un trade informado\", color=\"blue\")\n",
    "    plt.plot(S_values, Expected_Revenue, label=\"Expected Revenue\", color=\"green\")\n",
    "    plt.xlabel(\"Bid-Ask Spread (S)\")\n",
    "    plt.ylabel(\"Money\")\n",
    "    plt.title(\"Bid-Ask Spread\")\n",
    "    plt.legend()\n",
    "    plt.grid()\n",
    "    plt.show()\n",
    "\n",
    "if __name__ == \"__main__\":\n",
    "    plot_bid_ask_spread()\n"
   ]
  },
  {
   "cell_type": "code",
   "execution_count": 3,
   "id": "c9cdd30f",
   "metadata": {},
   "outputs": [
    {
     "name": "stdout",
     "output_type": "stream",
     "text": [
      "Optimal Spread: 7.00\n",
      "Optimal Ask Price (K_A): 54.50\n",
      "Optimal Bid Price (K_B): 47.50\n"
     ]
    }
   ],
   "source": [
    "import numpy as np\n",
    "import matplotlib.pyplot as plt\n",
    "from scipy.optimize import minimize\n",
    "\n",
    "def optimize_spread(p0=51, pi_I=0.4, S_range=(0, 7)):\n",
    "    \"\"\"\n",
    "    Optimiza el spread basado en las probabilidades de traders informados y de liquidez.\n",
    "\n",
    "    Parámetros:\n",
    "    - p0: Precio inicial del activo.\n",
    "    - pi_I: Probabilidad de un trader informado.\n",
    "    - S_range: Rango de valores para el spread.\n",
    "\n",
    "    Retorna:\n",
    "    - S_optimal: Spread óptimo.\n",
    "    - K_A_opt: Precio óptimo de venta (Ask).\n",
    "    - K_B_opt: Precio óptimo de compra (Bid).\n",
    "    \"\"\"\n",
    "    pi_L = 1 - pi_I  # Probabilidad de trader de liquidez\n",
    "\n",
    "    # Función de beneficio esperado\n",
    "    def expected_profit(S):\n",
    "        K_A = p0 + S / 2  # Precio Ask\n",
    "        K_B = p0 - S / 2  # Precio Bid\n",
    "        return -(pi_L * (K_A - p0) - pi_I * p0)  # Se usa negativo para minimizar\n",
    "\n",
    "    # Optimización del spread óptimo\n",
    "    opt_result = minimize(expected_profit, x0=1, bounds=[S_range])\n",
    "    S_optimal = opt_result.x[0]\n",
    "\n",
    "    # Cálculo de precios óptimos\n",
    "    K_A_opt = p0 + S_optimal / 2\n",
    "    K_B_opt = p0 - S_optimal / 2\n",
    "\n",
    "    return S_optimal, K_A_opt, K_B_opt\n",
    "\n",
    "if __name__ == \"__main__\":\n",
    "    S_optimal, K_A_opt, K_B_opt = optimize_spread()\n",
    "    print(f\"Optimal Spread: {S_optimal:.2f}\")\n",
    "    print(f\"Optimal Ask Price (K_A): {K_A_opt:.2f}\")\n",
    "    print(f\"Optimal Bid Price (K_B): {K_B_opt:.2f}\")"
   ]
  },
  {
   "cell_type": "code",
   "execution_count": null,
   "id": "89c4371a",
   "metadata": {},
   "outputs": [],
   "source": []
  }
 ],
 "metadata": {
  "kernelspec": {
   "display_name": "Python 3 (ipykernel)",
   "language": "python",
   "name": "python3"
  },
  "language_info": {
   "codemirror_mode": {
    "name": "ipython",
    "version": 3
   },
   "file_extension": ".py",
   "mimetype": "text/x-python",
   "name": "python",
   "nbconvert_exporter": "python",
   "pygments_lexer": "ipython3",
   "version": "3.9.12"
  }
 },
 "nbformat": 4,
 "nbformat_minor": 5
}
